{
 "cells": [
  {
   "cell_type": "code",
   "execution_count": 11,
   "metadata": {},
   "outputs": [],
   "source": [
    "import numpy as np\n",
    "import pandas as pd\n",
    "import matplotlib.pyplot as plt\n",
    "import seaborn as sns\n",
    "import surprise\n",
    "from surprise import KNNBaseline, SVDpp\n",
    "from surprise.model_selection import GridSearchCV, cross_validate\n",
    "from surprise import Dataset, Reader\n",
    "from sklearn.preprocessing import OneHotEncoder, OrdinalEncoder, LabelEncoder, RobustScaler, StandardScaler, MinMaxScaler\n",
    "\n",
    "from sklearn.manifold import TSNE\n",
    "import matplotlib.pyplot as plt\n",
    "from sklearn.ensemble import GradientBoostingRegressor\n",
    "from sklearn.metrics import mean_squared_error \n",
    "import math\n",
    "import tensorflow.compat.v1 as tf\n"
   ]
  },
  {
   "cell_type": "code",
   "execution_count": 2,
   "metadata": {},
   "outputs": [],
   "source": [
    "df = pd.read_csv('Data/Cleaned_Data/book_user_explicit_rating_cleaned.csv',encoding='UTF-8')\n",
    "df = df.drop(columns=['index'])\n",
    "df = df.loc[:, ~df.columns.str.contains('^Unnamed')]\n",
    "df = df.drop(columns=['Image_URL','ISBN'])"
   ]
  },
  {
   "cell_type": "code",
   "execution_count": 3,
   "metadata": {},
   "outputs": [],
   "source": [
    "labelenc = LabelEncoder()"
   ]
  },
  {
   "cell_type": "code",
   "execution_count": 4,
   "metadata": {},
   "outputs": [],
   "source": [
    "def label_encoding(df,param):\n",
    "    df[param] = labelenc.fit_transform(df[param].values)\n",
    "    df[param] = df[param].astype('category')"
   ]
  },
  {
   "cell_type": "code",
   "execution_count": 5,
   "metadata": {},
   "outputs": [],
   "source": [
    "label_encoding(df, 'User_ID')\n",
    "label_encoding(df, 'Unique_ISBN')"
   ]
  },
  {
   "cell_type": "code",
   "execution_count": 6,
   "metadata": {},
   "outputs": [],
   "source": [
    "enc_data = df[['User_ID','Unique_ISBN','Book_Rating']]"
   ]
  },
  {
   "cell_type": "code",
   "execution_count": 8,
   "metadata": {},
   "outputs": [
    {
     "name": "stdout",
     "output_type": "stream",
     "text": [
      "num of users: 20032\n",
      "num of books: 116946\n"
     ]
    }
   ],
   "source": [
    "print ('num of users:',df['User_ID'].nunique())\n",
    "print ('num of books:',df['Unique_ISBN'].nunique())"
   ]
  },
  {
   "cell_type": "code",
   "execution_count": 14,
   "metadata": {},
   "outputs": [],
   "source": [
    "user_ids = np.array(df['User_ID'].tolist())\n",
    "book_ids = np.array(df['Unique_ISBN'].tolist())\n",
    "user_ratings = np.array(df[\"Book_Rating\"].tolist())"
   ]
  },
  {
   "cell_type": "code",
   "execution_count": 12,
   "metadata": {},
   "outputs": [],
   "source": [
    "graph = tf.Graph()\n",
    "n_book = 116946\n",
    "n_user = 20032\n",
    "embedding_size = 30\n",
    "\n",
    "lr = 0.0001\n",
    "reg = 0.01\n",
    "\n",
    "with graph.as_default():\n",
    "    user = tf.placeholder(tf.int32, name=\"User_ID\") \n",
    "    book = tf.placeholder(tf.int32, name=\"Unique_ISBN\") \n",
    "    rating = tf.placeholder(tf.float32, name=\"Book_Rating\") \n",
    "\n",
    "    book_embedding = tf.Variable(tf.truncated_normal([n_book, embedding_size], stddev=0.02, mean=0.) ,name=\"Book_Embedding\")\n",
    "    user_embedding = tf.Variable(tf.truncated_normal([n_user, embedding_size], stddev=0.02, mean=0.) ,name=\"User_Embedding\")\n",
    "    \n",
    "    book_bias_embedding = tf.Variable(tf.truncated_normal([n_book], stddev=0.02, mean=0.) ,name=\"book_bias_embedding\")\n",
    "    user_bias_embedding = tf.Variable(tf.truncated_normal([n_user], stddev=0.02, mean=0.) ,name=\"user_bias_embedding\")\n",
    "    \n",
    "    \n",
    "    global_bias = tf.Variable(tf.truncated_normal([], stddev=0.02, mean=0.) ,name=\"global_bias\")\n",
    "    \n",
    "    u = tf.nn.embedding_lookup(user_embedding, user)\n",
    "    m = tf.nn.embedding_lookup(book_embedding, book)\n",
    "    \n",
    "    u_bias = tf.nn.embedding_lookup(user_bias_embedding, user)\n",
    "    m_bias = tf.nn.embedding_lookup(book_bias_embedding, book)\n",
    "    \n",
    "\n",
    "    predicted_rating = tf.reduce_sum(tf.multiply(u, m), 1) + u_bias + m_bias + global_bias\n",
    "\n",
    "    rmse = tf.sqrt(tf.reduce_mean(tf.square(predicted_rating - rating))) # RMSE\n",
    "    cost = tf.nn.l2_loss(predicted_rating - rating)\n",
    "    regularization = reg * (tf.nn.l2_loss(book_embedding) + tf.nn.l2_loss(user_embedding)\n",
    "                            + tf.nn.l2_loss(book_bias_embedding) + tf.nn.l2_loss(user_bias_embedding))\n",
    "    \n",
    "    loss = cost + regularization\n",
    "    \n",
    "    optimizer = tf.train.AdamOptimizer(lr).minimize(loss)"
   ]
  },
  {
   "cell_type": "code",
   "execution_count": 15,
   "metadata": {},
   "outputs": [],
   "source": [
    "batch_size = 5\n",
    "n_epoch = 30\n",
    "\n",
    "\n",
    "with tf.Session(graph=graph) as sess:\n",
    "    tf.initialize_all_variables().run()\n",
    "    for _ in range(n_epoch):\n",
    "        for start in range(0, user_ratings.shape[0] - batch_size, batch_size):\n",
    "            end = start + batch_size\n",
    "            _, cost_value = sess.run([optimizer, rmse], feed_dict={user: user_ids[start:end],\n",
    "                                                  book: book_ids[start: end],\n",
    "                                                  rating: user_ratings[start: end]})\n",
    "\n",
    "        print (\"RMSE\", cost_value)\n",
    "    embeddings = book_embedding.eval()"
   ]
  },
  {
   "cell_type": "code",
   "execution_count": null,
   "metadata": {},
   "outputs": [],
   "source": []
  }
 ],
 "metadata": {
  "interpreter": {
   "hash": "40d3a090f54c6569ab1632332b64b2c03c39dcf918b08424e98f38b5ae0af88f"
  },
  "kernelspec": {
   "display_name": "Python 3.9.7 ('base')",
   "language": "python",
   "name": "python3"
  },
  "language_info": {
   "codemirror_mode": {
    "name": "ipython",
    "version": 3
   },
   "file_extension": ".py",
   "mimetype": "text/x-python",
   "name": "python",
   "nbconvert_exporter": "python",
   "pygments_lexer": "ipython3",
   "version": "3.9.7"
  },
  "orig_nbformat": 4
 },
 "nbformat": 4,
 "nbformat_minor": 2
}
