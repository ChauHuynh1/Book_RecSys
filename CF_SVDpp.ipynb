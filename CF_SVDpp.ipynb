{
 "cells": [
  {
   "cell_type": "code",
   "execution_count": 15,
   "metadata": {},
   "outputs": [],
   "source": [
    "import numpy as np\n",
    "import pandas as pd\n",
    "import matplotlib.pyplot as plt\n",
    "import seaborn as sns\n",
    "import surprise\n",
    "from surprise import KNNBaseline, SVDpp\n",
    "from surprise.model_selection import GridSearchCV, cross_validate\n",
    "from surprise import Dataset, Reader\n",
    "from sklearn.preprocessing import OneHotEncoder, OrdinalEncoder, LabelEncoder, RobustScaler, StandardScaler, MinMaxScaler"
   ]
  },
  {
   "cell_type": "code",
   "execution_count": 3,
   "metadata": {},
   "outputs": [],
   "source": [
    "df = pd.read_csv('Data/Cleaned_Data/book_user_explicit_rating_cleaned.csv',encoding='UTF-8')\n",
    "df = df.drop(columns=['index'])\n",
    "df = df.loc[:, ~df.columns.str.contains('^Unnamed')]\n",
    "df = df.drop(columns=['Image_URL','ISBN'])"
   ]
  },
  {
   "cell_type": "code",
   "execution_count": 4,
   "metadata": {},
   "outputs": [],
   "source": [
    "labelenc = LabelEncoder()"
   ]
  },
  {
   "cell_type": "code",
   "execution_count": 5,
   "metadata": {},
   "outputs": [],
   "source": [
    "def label_encoding(df,param):\n",
    "    df[param] = labelenc.fit_transform(df[param].values)\n",
    "    df[param] = df[param].astype('category')"
   ]
  },
  {
   "cell_type": "code",
   "execution_count": 6,
   "metadata": {},
   "outputs": [],
   "source": [
    "label_encoding(df, 'User_ID')\n",
    "label_encoding(df, 'Unique_ISBN')"
   ]
  },
  {
   "cell_type": "code",
   "execution_count": 7,
   "metadata": {},
   "outputs": [],
   "source": [
    "enc_data = df[['User_ID','Unique_ISBN','Book_Rating']]"
   ]
  },
  {
   "cell_type": "code",
   "execution_count": 11,
   "metadata": {},
   "outputs": [],
   "source": [
    "reader = Reader(rating_scale=(1, 10))\n",
    "custom_data = Dataset.load_from_df(enc_data[['User_ID', 'Unique_ISBN', 'Book_Rating']], reader)"
   ]
  },
  {
   "cell_type": "code",
   "execution_count": 16,
   "metadata": {},
   "outputs": [],
   "source": [
    "svdpp = SVDpp()"
   ]
  },
  {
   "cell_type": "code",
   "execution_count": 18,
   "metadata": {},
   "outputs": [],
   "source": [
    "custom_data_new = Dataset.load_from_df(enc_data[['User_ID', 'Unique_ISBN', 'Book_Rating']], reader)"
   ]
  },
  {
   "cell_type": "code",
   "execution_count": 20,
   "metadata": {},
   "outputs": [
    {
     "name": "stdout",
     "output_type": "stream",
     "text": [
      "Evaluating RMSE, MAE of algorithm SVDpp on 5 split(s).\n",
      "\n",
      "                  Fold 1  Fold 2  Fold 3  Fold 4  Fold 5  Mean    Std     \n",
      "RMSE (testset)    1.6103  1.6127  1.5992  1.6085  1.6112  1.6084  0.0048  \n",
      "MAE (testset)     1.2330  1.2319  1.2261  1.2326  1.2369  1.2321  0.0035  \n",
      "Fit time          651.22  1173.12 1174.30 1126.66 1175.61 1060.18 205.32  \n",
      "Test time         7.49    11.05   11.75   11.62   13.19   11.02   1.90    \n"
     ]
    },
    {
     "data": {
      "text/plain": [
       "{'test_rmse': array([1.61029665, 1.61268507, 1.59923093, 1.60851868, 1.61122341]),\n",
       " 'test_mae': array([1.23299268, 1.23194116, 1.22605587, 1.23259065, 1.23685887]),\n",
       " 'fit_time': (651.2167890071869,\n",
       "  1173.1183140277863,\n",
       "  1174.2966949939728,\n",
       "  1126.6621408462524,\n",
       "  1175.61217212677),\n",
       " 'test_time': (7.492959976196289,\n",
       "  11.05499005317688,\n",
       "  11.751625061035156,\n",
       "  11.623344898223877,\n",
       "  13.194541692733765)}"
      ]
     },
     "execution_count": 20,
     "metadata": {},
     "output_type": "execute_result"
    }
   ],
   "source": [
    "cross_validate(svdpp, custom_data_new, measures=['RMSE', 'MAE'], cv=5, verbose=True)"
   ]
  },
  {
   "cell_type": "code",
   "execution_count": null,
   "metadata": {},
   "outputs": [],
   "source": []
  }
 ],
 "metadata": {
  "interpreter": {
   "hash": "40d3a090f54c6569ab1632332b64b2c03c39dcf918b08424e98f38b5ae0af88f"
  },
  "kernelspec": {
   "display_name": "Python 3.9.7 ('base')",
   "language": "python",
   "name": "python3"
  },
  "language_info": {
   "codemirror_mode": {
    "name": "ipython",
    "version": 3
   },
   "file_extension": ".py",
   "mimetype": "text/x-python",
   "name": "python",
   "nbconvert_exporter": "python",
   "pygments_lexer": "ipython3",
   "version": "3.9.7"
  },
  "orig_nbformat": 4
 },
 "nbformat": 4,
 "nbformat_minor": 2
}
