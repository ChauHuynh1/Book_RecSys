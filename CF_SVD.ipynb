{
 "cells": [
  {
   "cell_type": "markdown",
   "metadata": {},
   "source": [
    "# Imports"
   ]
  },
  {
   "cell_type": "code",
   "execution_count": 91,
   "metadata": {},
   "outputs": [],
   "source": [
    "import numpy as np\n",
    "import pandas as pd\n",
    "import matplotlib.pyplot as plt\n",
    "import seaborn as sns\n",
    "import surprise\n",
    "from surprise import SVD, SVDpp, NormalPredictor\n",
    "from surprise.model_selection import GridSearchCV, cross_validate\n",
    "from surprise import Dataset, Reader\n",
    "from sklearn.preprocessing import OneHotEncoder, OrdinalEncoder, LabelEncoder, RobustScaler, StandardScaler, MinMaxScaler"
   ]
  },
  {
   "cell_type": "markdown",
   "metadata": {},
   "source": [
    "# Data loading"
   ]
  },
  {
   "cell_type": "code",
   "execution_count": 55,
   "metadata": {},
   "outputs": [],
   "source": [
    "df = pd.read_csv('Data/Cleaned_Data/book_user_explicit_rating_cleaned.csv',encoding='UTF-8')\n",
    "df_book = pd.read_csv('Data/Cleaned_Data/book_cleaned.csv',encoding='UTF-8')\n",
    "df_rating = pd.read_csv('Data/Cleaned_Data/rating_cleaned.csv',encoding='UTF-8')\n",
    "df_user = pd.read_csv('Data/Cleaned_Data/user_cleaned.csv',encoding='UTF-8')"
   ]
  },
  {
   "cell_type": "markdown",
   "metadata": {},
   "source": [
    "# "
   ]
  },
  {
   "cell_type": "markdown",
   "metadata": {},
   "source": [
    "# Data preprocessing"
   ]
  },
  {
   "cell_type": "markdown",
   "metadata": {},
   "source": [
    "## Drop unnecessary features"
   ]
  },
  {
   "cell_type": "code",
   "execution_count": 56,
   "metadata": {},
   "outputs": [],
   "source": [
    "df = df.drop(columns=['index'])\n",
    "df = df.loc[:, ~df.columns.str.contains('^Unnamed')]\n",
    "df_book = df_book.loc[:, ~df_book.columns.str.contains('^Unnamed')]\n",
    "df_rating = df_rating.loc[:, ~df_rating.columns.str.contains('^Unnamed')]\n",
    "df_user = df_user.loc[:, ~df_user.columns.str.contains('^Unnamed')]\n",
    "df = df.drop(columns=['Image_URL','ISBN'])"
   ]
  },
  {
   "cell_type": "code",
   "execution_count": 57,
   "metadata": {},
   "outputs": [
    {
     "data": {
      "text/html": [
       "<div>\n",
       "<style scoped>\n",
       "    .dataframe tbody tr th:only-of-type {\n",
       "        vertical-align: middle;\n",
       "    }\n",
       "\n",
       "    .dataframe tbody tr th {\n",
       "        vertical-align: top;\n",
       "    }\n",
       "\n",
       "    .dataframe thead th {\n",
       "        text-align: right;\n",
       "    }\n",
       "</style>\n",
       "<table border=\"1\" class=\"dataframe\">\n",
       "  <thead>\n",
       "    <tr style=\"text-align: right;\">\n",
       "      <th></th>\n",
       "      <th>User_ID</th>\n",
       "      <th>Book_Rating</th>\n",
       "      <th>Book_Title</th>\n",
       "      <th>Book_Author</th>\n",
       "      <th>Publication_year</th>\n",
       "      <th>Publisher</th>\n",
       "      <th>Unique_ISBN</th>\n",
       "      <th>Age</th>\n",
       "      <th>Country</th>\n",
       "      <th>Age_Range</th>\n",
       "    </tr>\n",
       "  </thead>\n",
       "  <tbody>\n",
       "    <tr>\n",
       "      <th>0</th>\n",
       "      <td>276747</td>\n",
       "      <td>9</td>\n",
       "      <td>LITTLE ALTARS EVERYWHERE</td>\n",
       "      <td>REBECCA WELLS</td>\n",
       "      <td>2003.0</td>\n",
       "      <td>HARPERTORCH</td>\n",
       "      <td>0060517794</td>\n",
       "      <td>25.0</td>\n",
       "      <td>USA</td>\n",
       "      <td>18-36</td>\n",
       "    </tr>\n",
       "    <tr>\n",
       "      <th>1</th>\n",
       "      <td>276747</td>\n",
       "      <td>9</td>\n",
       "      <td>WAITING TO EXHALE</td>\n",
       "      <td>TERRY MCMILLAN</td>\n",
       "      <td>1995.0</td>\n",
       "      <td>POCKET</td>\n",
       "      <td>0671537458</td>\n",
       "      <td>25.0</td>\n",
       "      <td>USA</td>\n",
       "      <td>18-36</td>\n",
       "    </tr>\n",
       "    <tr>\n",
       "      <th>2</th>\n",
       "      <td>276747</td>\n",
       "      <td>8</td>\n",
       "      <td>BIRDSONG: A NOVEL OF LOVE AND WAR</td>\n",
       "      <td>SEBASTIAN FAULKS</td>\n",
       "      <td>1997.0</td>\n",
       "      <td>VINTAGE BOOKS USA</td>\n",
       "      <td>0679776818</td>\n",
       "      <td>25.0</td>\n",
       "      <td>USA</td>\n",
       "      <td>18-36</td>\n",
       "    </tr>\n",
       "    <tr>\n",
       "      <th>3</th>\n",
       "      <td>276747</td>\n",
       "      <td>7</td>\n",
       "      <td>HOW TO DEAL WITH DIFFICULT PEOPLE</td>\n",
       "      <td>RICK BRINKMAN</td>\n",
       "      <td>1995.0</td>\n",
       "      <td>CAREERTRACK INC.</td>\n",
       "      <td>0943066433</td>\n",
       "      <td>25.0</td>\n",
       "      <td>USA</td>\n",
       "      <td>18-36</td>\n",
       "    </tr>\n",
       "    <tr>\n",
       "      <th>4</th>\n",
       "      <td>276747</td>\n",
       "      <td>7</td>\n",
       "      <td>THE GOLDEN RULE OF SCHMOOZING</td>\n",
       "      <td>AYE JAYE</td>\n",
       "      <td>1998.0</td>\n",
       "      <td>LISTEN &amp;AMP; LIVE AUDIO</td>\n",
       "      <td>1885408226</td>\n",
       "      <td>25.0</td>\n",
       "      <td>USA</td>\n",
       "      <td>18-36</td>\n",
       "    </tr>\n",
       "  </tbody>\n",
       "</table>\n",
       "</div>"
      ],
      "text/plain": [
       "   User_ID  Book_Rating                         Book_Title       Book_Author  \\\n",
       "0   276747            9           LITTLE ALTARS EVERYWHERE     REBECCA WELLS   \n",
       "1   276747            9                  WAITING TO EXHALE    TERRY MCMILLAN   \n",
       "2   276747            8  BIRDSONG: A NOVEL OF LOVE AND WAR  SEBASTIAN FAULKS   \n",
       "3   276747            7  HOW TO DEAL WITH DIFFICULT PEOPLE     RICK BRINKMAN   \n",
       "4   276747            7      THE GOLDEN RULE OF SCHMOOZING          AYE JAYE   \n",
       "\n",
       "   Publication_year                Publisher Unique_ISBN   Age Country  \\\n",
       "0            2003.0              HARPERTORCH  0060517794  25.0     USA   \n",
       "1            1995.0                   POCKET  0671537458  25.0     USA   \n",
       "2            1997.0        VINTAGE BOOKS USA  0679776818  25.0     USA   \n",
       "3            1995.0         CAREERTRACK INC.  0943066433  25.0     USA   \n",
       "4            1998.0  LISTEN &AMP; LIVE AUDIO  1885408226  25.0     USA   \n",
       "\n",
       "  Age_Range  \n",
       "0     18-36  \n",
       "1     18-36  \n",
       "2     18-36  \n",
       "3     18-36  \n",
       "4     18-36  "
      ]
     },
     "execution_count": 57,
     "metadata": {},
     "output_type": "execute_result"
    }
   ],
   "source": [
    "df.head()"
   ]
  },
  {
   "cell_type": "markdown",
   "metadata": {},
   "source": [
    "# Feature Engineering (Encoding)"
   ]
  },
  {
   "cell_type": "code",
   "execution_count": 58,
   "metadata": {},
   "outputs": [],
   "source": [
    "labelenc = LabelEncoder()\n",
    "onehot = OneHotEncoder()\n",
    "ordinal = OrdinalEncoder()"
   ]
  },
  {
   "cell_type": "code",
   "execution_count": 61,
   "metadata": {},
   "outputs": [],
   "source": [
    "def label_encoding(df,param):\n",
    "    df[param] = labelenc.fit_transform(df[param].values)\n",
    "    df[param] = df[param].astype('category')"
   ]
  },
  {
   "cell_type": "code",
   "execution_count": 64,
   "metadata": {},
   "outputs": [],
   "source": [
    "label_encoding(df, 'User_ID')\n",
    "label_encoding(df, 'Unique_ISBN')"
   ]
  },
  {
   "cell_type": "code",
   "execution_count": 87,
   "metadata": {},
   "outputs": [],
   "source": [
    "enc_data = df[['User_ID','Unique_ISBN','Book_Rating']]"
   ]
  },
  {
   "cell_type": "markdown",
   "metadata": {},
   "source": [
    "# SVD"
   ]
  },
  {
   "cell_type": "markdown",
   "metadata": {},
   "source": [
    "## Baseline model"
   ]
  },
  {
   "cell_type": "code",
   "execution_count": 89,
   "metadata": {},
   "outputs": [],
   "source": [
    "svd = SVD()"
   ]
  },
  {
   "cell_type": "code",
   "execution_count": 90,
   "metadata": {},
   "outputs": [],
   "source": [
    "reader = Reader(rating_scale=(1, 10))\n",
    "custom_data = Dataset.load_from_df(enc_data[['User_ID', 'Unique_ISBN', 'Book_Rating']], reader)"
   ]
  },
  {
   "cell_type": "code",
   "execution_count": 92,
   "metadata": {},
   "outputs": [
    {
     "name": "stdout",
     "output_type": "stream",
     "text": [
      "Evaluating RMSE, MAE of algorithm SVD on 5 split(s).\n",
      "\n",
      "                  Fold 1  Fold 2  Fold 3  Fold 4  Fold 5  Mean    Std     \n",
      "RMSE (testset)    1.5977  1.5878  1.5843  1.5926  1.5918  1.5909  0.0046  \n",
      "MAE (testset)     1.2268  1.2209  1.2160  1.2256  1.2226  1.2224  0.0038  \n",
      "Fit time          13.90   14.20   14.29   14.54   15.65   14.52   0.60    \n",
      "Test time         0.51    0.57    0.36    0.37    0.56    0.47    0.09    \n"
     ]
    },
    {
     "data": {
      "text/plain": [
       "{'test_rmse': array([1.59773155, 1.58780048, 1.58427185, 1.59262894, 1.59181922]),\n",
       " 'test_mae': array([1.2267656 , 1.22089419, 1.21601679, 1.22560505, 1.22264048]),\n",
       " 'fit_time': (13.899455070495605,\n",
       "  14.200200319290161,\n",
       "  14.288547039031982,\n",
       "  14.543802976608276,\n",
       "  15.645019054412842),\n",
       " 'test_time': (0.5059082508087158,\n",
       "  0.5714590549468994,\n",
       "  0.36257362365722656,\n",
       "  0.36962008476257324,\n",
       "  0.5601580142974854)}"
      ]
     },
     "execution_count": 92,
     "metadata": {},
     "output_type": "execute_result"
    }
   ],
   "source": [
    "cross_validate(svd, custom_data, measures=['RMSE', 'MAE'], cv=5, verbose=True)"
   ]
  },
  {
   "cell_type": "markdown",
   "metadata": {},
   "source": [
    "## Hyperparameters tuning"
   ]
  },
  {
   "cell_type": "code",
   "execution_count": null,
   "metadata": {},
   "outputs": [],
   "source": [
    "param_grid = {'n_epochs': [20, 40, 60, 80, 100], 'lr_all': [0.000001,0.00002,0.0003,0.004,0.05],\n",
    "              'reg_all': [0.2,0.4, 0.6]}\n",
    "gs = GridSearchCV(SVD, param_grid, measures=['rmse', 'mae'],cv=10)\n",
    "gs.fit(custom_data)\n",
    "# best RMSE score\n",
    "print(gs.best_score['rmse'])\n",
    "\n",
    "# combination of parameters that gave the best RMSE score\n",
    "print(gs.best_params['rmse'])\n",
    "\n",
    "results_df = pd.DataFrame.from_dict(gs.cv_results)\n",
    "results_df"
   ]
  },
  {
   "cell_type": "markdown",
   "metadata": {},
   "source": [
    "# SVD++"
   ]
  },
  {
   "cell_type": "markdown",
   "metadata": {},
   "source": [
    "# TruncatedSVD"
   ]
  },
  {
   "cell_type": "markdown",
   "metadata": {},
   "source": [
    "# KNN"
   ]
  },
  {
   "cell_type": "markdown",
   "metadata": {},
   "source": []
  }
 ],
 "metadata": {
  "interpreter": {
   "hash": "40d3a090f54c6569ab1632332b64b2c03c39dcf918b08424e98f38b5ae0af88f"
  },
  "kernelspec": {
   "display_name": "Python 3.9.7 ('base')",
   "language": "python",
   "name": "python3"
  },
  "language_info": {
   "codemirror_mode": {
    "name": "ipython",
    "version": 3
   },
   "file_extension": ".py",
   "mimetype": "text/x-python",
   "name": "python",
   "nbconvert_exporter": "python",
   "pygments_lexer": "ipython3",
   "version": "3.9.7"
  },
  "orig_nbformat": 4
 },
 "nbformat": 4,
 "nbformat_minor": 2
}
